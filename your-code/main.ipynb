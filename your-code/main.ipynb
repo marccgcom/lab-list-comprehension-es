{
 "cells": [
  {
   "cell_type": "markdown",
   "metadata": {},
   "source": [
    "# List Comprehensions\n",
    "\n",
    "Completa el siguiente conjunto de ejercicios para solidificar tu conocimiento sobre las comprensiones de lista."
   ]
  },
  {
   "cell_type": "code",
   "execution_count": 15,
   "metadata": {},
   "outputs": [
    {
     "name": "stdout",
     "output_type": "stream",
     "text": [
      "The history saving thread hit an unexpected error (OperationalError('attempt to write a readonly database')).History will not be written to the database.\n"
     ]
    }
   ],
   "source": [
    "import os"
   ]
  },
  {
   "cell_type": "markdown",
   "metadata": {},
   "source": [
    "#### 1. Usa una list comprehension para crear e imprimir una lista de enteros consecutivos que comience con 1 y termine con 50."
   ]
  },
  {
   "cell_type": "code",
   "execution_count": 2,
   "metadata": {},
   "outputs": [
    {
     "name": "stdout",
     "output_type": "stream",
     "text": [
      "[1, 2, 3, 4, 5, 6, 7, 8, 9, 10, 11, 12, 13, 14, 15, 16, 17, 18, 19, 20, 21, 22, 23, 24, 25, 26, 27, 28, 29, 30, 31, 32, 33, 34, 35, 36, 37, 38, 39, 40, 41, 42, 43, 44, 45, 46, 47, 48, 49, 50]\n"
     ]
    }
   ],
   "source": [
    "# tu solución aquí\n",
    "list1 = [i for i in range(1, 51)]\n",
    "print(list1)"
   ]
  },
  {
   "cell_type": "markdown",
   "metadata": {},
   "source": [
    "#### 2. Usa una list comprehension para crear y imprimir una lista de numeros pares entre 2 y 200."
   ]
  },
  {
   "cell_type": "code",
   "execution_count": 5,
   "metadata": {},
   "outputs": [
    {
     "name": "stdout",
     "output_type": "stream",
     "text": [
      "[2, 4, 6, 8, 10, 12, 14, 16, 18, 20, 22, 24, 26, 28, 30, 32, 34, 36, 38, 40, 42, 44, 46, 48, 50, 52, 54, 56, 58, 60, 62, 64, 66, 68, 70, 72, 74, 76, 78, 80, 82, 84, 86, 88, 90, 92, 94, 96, 98, 100, 102, 104, 106, 108, 110, 112, 114, 116, 118, 120, 122, 124, 126, 128, 130, 132, 134, 136, 138, 140, 142, 144, 146, 148, 150, 152, 154, 156, 158, 160, 162, 164, 166, 168, 170, 172, 174, 176, 178, 180, 182, 184, 186, 188, 190, 192, 194, 196, 198, 200]\n"
     ]
    }
   ],
   "source": [
    "# tu solución aquí\n",
    "list2 = [i for i in range(2, 201) if i%2==0]\n",
    "print(list2)"
   ]
  },
  {
   "cell_type": "markdown",
   "metadata": {},
   "source": [
    "#### 3. Usa una comprensión de lista para crear e imprimir una lista que contenga todos los elementos del siguiente array de 10 x 4."
   ]
  },
  {
   "cell_type": "code",
   "execution_count": 6,
   "metadata": {},
   "outputs": [],
   "source": [
    "a = [[0.84062117, 0.48006452, 0.7876326 , 0.77109654],\n",
    "       [0.44409793, 0.09014516, 0.81835917, 0.87645456],\n",
    "       [0.7066597 , 0.09610873, 0.41247947, 0.57433389],\n",
    "       [0.29960807, 0.42315023, 0.34452557, 0.4751035 ],\n",
    "       [0.17003563, 0.46843998, 0.92796258, 0.69814654],\n",
    "       [0.41290051, 0.19561071, 0.16284783, 0.97016248],\n",
    "       [0.71725408, 0.87702738, 0.31244595, 0.76615487],\n",
    "       [0.20754036, 0.57871812, 0.07214068, 0.40356048],\n",
    "       [0.12149553, 0.53222417, 0.9976855 , 0.12536346],\n",
    "       [0.80930099, 0.50962849, 0.94555126, 0.33364763]];"
   ]
  },
  {
   "cell_type": "code",
   "execution_count": 8,
   "metadata": {},
   "outputs": [
    {
     "name": "stdout",
     "output_type": "stream",
     "text": [
      "[0.84062117, 0.48006452, 0.7876326, 0.77109654, 0.44409793, 0.09014516, 0.81835917, 0.87645456, 0.7066597, 0.09610873, 0.41247947, 0.57433389, 0.29960807, 0.42315023, 0.34452557, 0.4751035, 0.17003563, 0.46843998, 0.92796258, 0.69814654, 0.41290051, 0.19561071, 0.16284783, 0.97016248, 0.71725408, 0.87702738, 0.31244595, 0.76615487, 0.20754036, 0.57871812, 0.07214068, 0.40356048, 0.12149553, 0.53222417, 0.9976855, 0.12536346, 0.80930099, 0.50962849, 0.94555126, 0.33364763]\n"
     ]
    }
   ],
   "source": [
    "# tu solución aquí\n",
    "list3=[j for i in a for j in i]\n",
    "print(list3)"
   ]
  },
  {
   "cell_type": "markdown",
   "metadata": {},
   "source": [
    "#### 4. Añade una condición a la comprensión de lista anterior para que solo se impriman los valores mayores o iguales a 0.5."
   ]
  },
  {
   "cell_type": "code",
   "execution_count": 10,
   "metadata": {},
   "outputs": [
    {
     "name": "stdout",
     "output_type": "stream",
     "text": [
      "[0.84062117, 0.7876326, 0.77109654, 0.81835917, 0.87645456, 0.7066597, 0.57433389, 0.92796258, 0.69814654, 0.97016248, 0.71725408, 0.87702738, 0.76615487, 0.57871812, 0.53222417, 0.9976855, 0.80930099, 0.50962849, 0.94555126]\n"
     ]
    }
   ],
   "source": [
    "# tu solución aquí\n",
    "list4=[j for i in a for j in i if j >= 0.5]\n",
    "print(list4)"
   ]
  },
  {
   "cell_type": "markdown",
   "metadata": {},
   "source": [
    "#### 5. Usa una comprensión de lista para crear e imprimir una lista que contenga todos los elementos del siguiente array de 5 x 2 x 3."
   ]
  },
  {
   "cell_type": "code",
   "execution_count": 12,
   "metadata": {},
   "outputs": [],
   "source": [
    "b = [[[0.55867166, 0.06210792, 0.08147297],\n",
    "        [0.82579068, 0.91512478, 0.06833034]],\n",
    "\n",
    "       [[0.05440634, 0.65857693, 0.30296619],\n",
    "        [0.06769833, 0.96031863, 0.51293743]],\n",
    "\n",
    "       [[0.09143215, 0.71893382, 0.45850679],\n",
    "        [0.58256464, 0.59005654, 0.56266457]],\n",
    "\n",
    "       [[0.71600294, 0.87392666, 0.11434044],\n",
    "        [0.8694668 , 0.65669313, 0.10708681]],\n",
    "\n",
    "       [[0.07529684, 0.46470767, 0.47984544],\n",
    "        [0.65368638, 0.14901286, 0.23760688]]];"
   ]
  },
  {
   "cell_type": "code",
   "execution_count": 14,
   "metadata": {},
   "outputs": [
    {
     "name": "stdout",
     "output_type": "stream",
     "text": [
      "[0.55867166, 0.06210792, 0.08147297, 0.82579068, 0.91512478, 0.06833034, 0.05440634, 0.65857693, 0.30296619, 0.06769833, 0.96031863, 0.51293743, 0.09143215, 0.71893382, 0.45850679, 0.58256464, 0.59005654, 0.56266457, 0.71600294, 0.87392666, 0.11434044, 0.8694668, 0.65669313, 0.10708681, 0.07529684, 0.46470767, 0.47984544, 0.65368638, 0.14901286, 0.23760688]\n"
     ]
    }
   ],
   "source": [
    "# tu solución aquí\n",
    "list5 = [k for i in b for j in i for k in j]\n",
    "print(list5)"
   ]
  },
  {
   "cell_type": "markdown",
   "metadata": {},
   "source": [
    "#### 6. Añade una condición a la comprensión de lista anterior para que se imprima el último valor en cada subarray, pero solo si es menor o igual a 0.5."
   ]
  },
  {
   "cell_type": "code",
   "execution_count": 15,
   "metadata": {},
   "outputs": [
    {
     "name": "stdout",
     "output_type": "stream",
     "text": [
      "[0.06210792, 0.08147297, 0.06833034, 0.05440634, 0.30296619, 0.06769833, 0.09143215, 0.45850679, 0.11434044, 0.10708681, 0.07529684, 0.46470767, 0.47984544, 0.14901286, 0.23760688]\n"
     ]
    }
   ],
   "source": [
    "# tu solución aquí\n",
    "list6 = [k for i in b for j in i for k in j if k <= 0.5]\n",
    "print(list6)"
   ]
  },
  {
   "cell_type": "markdown",
   "metadata": {},
   "source": [
    "### Bonus\n",
    "\n",
    "Intenta resolver estas katas usando comprensiones de listas.\n",
    "\n",
    "**Fácil**\n",
    "- [Insertar valores](https://www.codewars.com/kata/invert-values)\n",
    "- [Suma Cuadrado(n)](https://www.codewars.com/kata/square-n-sum)\n",
    "- [Digitalizar](https://www.codewars.com/kata/digitize)\n",
    "- [Filtrado de listas](https://www.codewars.com/kata/list-filtering)\n",
    "- [Lista aritmética](https://www.codewars.com/kata/541da001259d9ca85d000688)\n",
    "\n",
    "**Medio**\n",
    "- [Múltiplos de 3 o 5](https://www.codewars.com/kata/514b92a657cdc65150000006)\n",
    "- [Conteo de positivos / suma de negativos](https://www.codewars.com/kata/count-of-positives-slash-sum-of-negatives)\n",
    "- [Categorizar nuevo miembro](https://www.codewars.com/kata/5502c9e7b3216ec63c0001aa)\n",
    "\n",
    "**Avanzado**\n",
    "- [Contador de tiempo en cola](https://www.codewars.com/kata/queue-time-counter)"
   ]
  },
  {
   "cell_type": "markdown",
   "metadata": {},
   "source": [
    "Given a set of numbers, return the additive inverse of each. Each positive becomes negatives, and the negatives become positives.\n",
    "\n",
    "invert([1,2,3,4,5]) == [-1,-2,-3,-4,-5]\n",
    "invert([1,-2,3,-4,5]) == [-1,2,-3,4,-5]\n",
    "invert([]) == []\n",
    "\n",
    "You can assume that all values are integers. Do not mutate the input array/list.\n"
   ]
  },
  {
   "cell_type": "code",
   "execution_count": 3,
   "metadata": {},
   "outputs": [
    {
     "name": "stdout",
     "output_type": "stream",
     "text": [
      "[-1, -2, -3, -4, -5]\n",
      "[-1, 2, -3, 4, -5]\n"
     ]
    }
   ],
   "source": [
    "list_original = [1,2,3,4,5]\n",
    "list_inverted = [-i for i in list_original]\n",
    "print(list_inverted)\n",
    "list_original = [1,-2,3,-4,5]\n",
    "list_inverted = [-i for i in list_original]\n",
    "print(list_inverted)"
   ]
  },
  {
   "cell_type": "markdown",
   "metadata": {},
   "source": [
    "Complete the square sum function so that it squares each number passed into it and then sums the results together.\n",
    "\n",
    "For example, for [1, 2, 2] it should return 9 because 12+22+22=91^2 + 2^2 + 2^2 = 912+22+22=9.\n"
   ]
  },
  {
   "cell_type": "code",
   "execution_count": 5,
   "metadata": {},
   "outputs": [
    {
     "name": "stdout",
     "output_type": "stream",
     "text": [
      "9\n"
     ]
    }
   ],
   "source": [
    "numbers =  [1, 2, 2]\n",
    "print(sum([i*i for i in numbers]))"
   ]
  },
  {
   "cell_type": "markdown",
   "metadata": {},
   "source": [
    "Given a non-negative integer, return an array / a list of the individual digits in order.\n",
    "\n",
    "Examples:\n",
    "\n",
    "123 => [1,2,3]\n",
    "\n",
    "1 => [1]\n",
    "\n",
    "8675309 => [8,6,7,5,3,0,9]\n"
   ]
  },
  {
   "cell_type": "code",
   "execution_count": 9,
   "metadata": {},
   "outputs": [
    {
     "name": "stdin",
     "output_type": "stream",
     "text": [
      " 123\n"
     ]
    },
    {
     "name": "stdout",
     "output_type": "stream",
     "text": [
      "[1, 2, 3]\n"
     ]
    }
   ],
   "source": [
    "number = int(input())\n",
    "lista = [int(i) for i in str(number)]\n",
    "print(lista)"
   ]
  },
  {
   "cell_type": "markdown",
   "metadata": {},
   "source": [
    "In this kata you will create a function that takes a list of non-negative integers and strings and returns a new list with the strings filtered out.\n",
    "Example\n",
    "\n",
    "filter_list([1,2,'a','b']) == [1,2]\n",
    "\n",
    "filter_list([1,'a','b',0,15]) == [1,0,15]\n",
    "\n",
    "filter_list([1,2,'aasf','1','123',123]) == [1,2,123]\n",
    "\n"
   ]
  },
  {
   "cell_type": "code",
   "execution_count": 1,
   "metadata": {},
   "outputs": [
    {
     "name": "stdout",
     "output_type": "stream",
     "text": [
      "[1, 2]\n",
      "[1, 15]\n",
      "[1, 2, 123]\n"
     ]
    }
   ],
   "source": [
    "def filter_list(lista):\n",
    "    return [i for i in lista if (isinstance(i, int) and i > 0)]\n",
    "\n",
    "print(filter_list([1,2,'a','b']))\n",
    "print(filter_list([1,'a','b',0,15]))\n",
    "print(filter_list([1,2,'aasf','1','123',123]))"
   ]
  },
  {
   "cell_type": "markdown",
   "metadata": {},
   "source": [
    "In this kata, you will write an arithmetic list which is basically a list that contains consecutive terms in the sequence.\n",
    "You will be given three parameters :\n",
    "\n",
    "    first the first term in the sequence\n",
    "    c the constant that you are going to ADD ( since it is an arithmetic sequence...)\n",
    "    l the number of terms that should be returned\n",
    "\n",
    "Useful link: Sequence\n",
    "\n",
    "Be sure to check out my Arithmetic sequence Kata first ;)\n",
    "Don't forget about the indexing pitfall ;)\n"
   ]
  },
  {
   "cell_type": "code",
   "execution_count": 18,
   "metadata": {},
   "outputs": [
    {
     "name": "stdout",
     "output_type": "stream",
     "text": [
      "[1, 6, 11, 16, 21, 26, 31, 36, 41, 46]\n",
      "[0, 1, 2, 3, 4]\n"
     ]
    }
   ],
   "source": [
    "#lista aritmetica\n",
    "def sequence(first, c, l):\n",
    "    return [first+(c*i) for i in range(0, l)]\n",
    "\n",
    "print(sequence(1, 5, 10))\n",
    "print(sequence(0, 1, 5))"
   ]
  },
  {
   "cell_type": "markdown",
   "metadata": {},
   "source": [
    "# Medio 1\n",
    "If we list all the natural numbers below 10 that are multiples of 3 or 5, we get 3, 5, 6 and 9. The sum of these multiples is 23.\n",
    "\n",
    "Finish the solution so that it returns the sum of all the multiples of 3 or 5 below the number passed in.\n",
    "\n",
    "Additionally, if the number is negative, return 0.\n",
    "\n",
    "Note: If the number is a multiple of both 3 and 5, only count it once."
   ]
  },
  {
   "cell_type": "code",
   "execution_count": 3,
   "metadata": {},
   "outputs": [
    {
     "name": "stdout",
     "output_type": "stream",
     "text": [
      "0\n",
      "23\n",
      "2318\n",
      "233168\n"
     ]
    }
   ],
   "source": [
    "# Definimos tres listas de ejemplo\n",
    "x=[i for i in range(1,10)]\n",
    "y=[i for i in range(1,100)]\n",
    "z=[i for i in range(1,1000)]\n",
    "\n",
    "#Definimos la función multiplos 3 y de 5\n",
    "def multiple_3_5_comp (x):\n",
    "    lista = [i for i in range (0, x) if (i % 3 == 0)or(i % 5 == 0)]\n",
    "    return lista if x > 0 else []\n",
    "\n",
    "print(sum(multiple_3_5_comp (-10)))\n",
    "print(sum(multiple_3_5_comp (10)))\n",
    "print(sum(multiple_3_5_comp (100)))\n",
    "print(sum(multiple_3_5_comp (1000)))"
   ]
  },
  {
   "cell_type": "markdown",
   "metadata": {},
   "source": [
    "# medio 2\n",
    "\n",
    "Given an array of integers.\n",
    "\n",
    "Return an array, where the first element is the count of positives numbers and the second element is sum of negative numbers. 0 is neither positive nor negative.\n",
    "\n",
    "If the input is an empty array or is null, return an empty array."
   ]
  },
  {
   "cell_type": "code",
   "execution_count": 24,
   "metadata": {},
   "outputs": [
    {
     "name": "stdout",
     "output_type": "stream",
     "text": [
      "[10, -65]\n",
      "[10, -65]\n"
     ]
    }
   ],
   "source": [
    "x=[1, 2, 3, 4, 5, 6, 7, 8, 9, 10, -11, -12, -13, -14, -15]\n",
    "\n",
    "def sum_positive_negatives(x):\n",
    "    a=0\n",
    "    b=0\n",
    "    for i in x:\n",
    "        if i>0:\n",
    "            a=a+1\n",
    "        else:\n",
    "            b=b+i\n",
    "    print([a,b])\n",
    "\n",
    "sum_positive_negatives(x)\n",
    "\n",
    "def sum_positive_negatives_comp(x):\n",
    "    return [len([i for i in x if i > 0]), sum([i for i in x if i < 0])]\n",
    "print(sum_positive_negatives_comp(x))"
   ]
  },
  {
   "cell_type": "markdown",
   "metadata": {},
   "source": [
    "# medio 3\n",
    "\n",
    "The Western Suburbs Croquet Club has two categories of membership, Senior and Open. They would like your help with an application form that will tell prospective members which category they will be placed.\n",
    "\n",
    "To be a senior, a member must be at least 55 years old and have a handicap greater than 7. In this croquet club, handicaps range from -2 to +26; the better the player the lower the handicap.\n",
    "Input\n",
    "\n",
    "Input will consist of a list of pairs. Each pair contains information for a single potential member. Information consists of an integer for the person's age and an integer for the person's handicap.\n",
    "Output\n",
    "\n",
    "Output will consist of a list of string values (in Haskell and C: Open or Senior) stating whether the respective member is to be placed in the senior or open category.\n",
    "\n",
    "input =  [[18, 20], [45, 2], [61, 12], [37, 6], [21, 21], [78, 9]]\n",
    "\n",
    "output = [\"Open\", \"Open\", \"Senior\", \"Open\", \"Open\", \"Senior\"]\n"
   ]
  },
  {
   "cell_type": "code",
   "execution_count": 23,
   "metadata": {},
   "outputs": [
    {
     "name": "stdout",
     "output_type": "stream",
     "text": [
      "['Open', 'Open', 'Senior', 'Open', 'Open', 'Senior']\n",
      "['Open', 'Open', 'Senior', 'Open', 'Open', 'Senior']\n"
     ]
    }
   ],
   "source": [
    "input =  [[18, 20], [45, 2], [61, 12], [37, 6], [21, 21], [78, 9]]\n",
    "\n",
    "def membership(x):\n",
    "    y=[]\n",
    "    for i in x:\n",
    "        if (i[0]>= 55)and(i[1]>7):\n",
    "            y.append(\"Senior\")\n",
    "        else:\n",
    "            y.append(\"Open\")\n",
    "    print(y) \n",
    "membership(input)\n",
    "\n",
    "def membership_comp(lista):\n",
    "    return [\"Senior\" if (i[0]>= 55)and(i[1]>7) else \"Open\" for i in lista]\n",
    "\n",
    "print(membership_comp(input))"
   ]
  },
  {
   "cell_type": "markdown",
   "metadata": {},
   "source": [
    "You managed to send your friend to queue for tickets in your stead, but there is a catch: he will get there only if you tell him how much that is going to take. And everybody can only take one ticket at a time, then they go back in the last position of the queue if they need more (or go home if they are fine).\n",
    "\n",
    "Each ticket takes one minutes to emit, the queue is well disciplined, Brit-style, and so it moves smoothly, with no waste of time.\n",
    "\n",
    "You will be given an array/list/vector with all the people queuing and the initial position of your buddy, so for example, knowing that your friend is in the third position (that we will consider equal to the index, 2 (3 in COBOL): he is the guy that wants 3 tickets!) and the initial queue is [2, 5, 3, 4, 6].\n",
    "\n",
    "The first dude gets his ticket and the queue goes now like this [5, 3, 4, 6, 1], then [3, 4, 6, 1, 4] and so on. In the end, our buddy will be queuing for 12 minutes, true story!\n",
    "\n",
    "Build a function to compute it, resting assured that only positive integers are going to be there and you will be always given a valid index; but we also want to go to pretty popular events, so be ready for big queues with people getting plenty of tickets.\n",
    "\n",
    "pseudo code:\n",
    "\n",
    "for i in range 1.2.3.4:\n",
    "    for i in queue:\n",
    "        if quiere comprar\n"
   ]
  },
  {
   "cell_type": "code",
   "execution_count": 57,
   "metadata": {},
   "outputs": [
    {
     "name": "stdout",
     "output_type": "stream",
     "text": [
      "[2, 3, 3, 2, 2]\n",
      "12\n",
      "[2, 3, 3, 2, 2]\n",
      "12\n"
     ]
    }
   ],
   "source": [
    "queue = [2, 5, 3, 4, 6]\n",
    "position = 2 #(3 pero empezando por 0)\n",
    "entradas = queue[position]\n",
    "time_list = list()\n",
    "\n",
    "for j in range (0, len(queue)): \n",
    "    if j < position and queue[j] > entradas:\n",
    "        time_list.append(entradas)\n",
    "    elif j == position:\n",
    "        time_list.append(entradas)\n",
    "        \n",
    "    elif j > position and queue[j] >= entradas:\n",
    "        time_list.append(entradas-1)\n",
    "        \n",
    "    elif j < position and queue[j] <= entradas:\n",
    "        time_list.append(queue[j])\n",
    "    else:\n",
    "        time_list.append(queue[j])\n",
    "\n",
    "print(time_list)\n",
    "print(sum(time_list))\n",
    "\n",
    "lista = [entradas if (j < position and queue[j] > entradas) else entradas if (j == position) else (entradas-1) if (j > position and queue[j] >= entradas) else queue[j] for j in range (0, len(queue))]\n",
    "\n",
    "print(lista)\n",
    "print(sum(lista))\n"
   ]
  }
 ],
 "metadata": {
  "kernelspec": {
   "display_name": "Python 3 (ipykernel)",
   "language": "python",
   "name": "python3"
  },
  "language_info": {
   "codemirror_mode": {
    "name": "ipython",
    "version": 3
   },
   "file_extension": ".py",
   "mimetype": "text/x-python",
   "name": "python",
   "nbconvert_exporter": "python",
   "pygments_lexer": "ipython3",
   "version": "3.10.12"
  },
  "vscode": {
   "interpreter": {
    "hash": "aee8b7b246df8f9039afb4144a1f6fd8d2ca17a180786b69acc140d282b71a49"
   }
  }
 },
 "nbformat": 4,
 "nbformat_minor": 4
}
